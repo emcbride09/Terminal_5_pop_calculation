{
 "cells": [
  {
   "cell_type": "markdown",
   "metadata": {},
   "source": [
    "# How many people are in Heathrow terminal 5 now?\n",
    "I'm not aware of any footfall counting source, but I think the best way to determine this will be understanding the capacity of flights leaving and arriving, relative to the time now.\n",
    "\n",
    "### Logic:\n",
    "The number of people in Heathrow T5 right now is equal to: \n",
    "1. The capacity of flights leaving now and for the next 90 minutes __plus__ \n",
    "2. the capacity of flights which have landed in the last half an hour, as people don't tend to wait in the airport as long after they have landed.\n",
    "\n",
    "### Steps:\n",
    "1. Calculate number of seats on flights leaving t5 at __the present time + 90 minutes__\n",
    "2. Calculate number of seats on flights which have __landed in the last 30 minutes__ as they don't tend to wait in the airport once they have arrived\n",
    "3. Understanding the capacity of the planes from the plane type. Will need to match the flight # and plane type the flight number corresponds to\n",
    "\n",
    "### Assumptions:\n",
    "1. multiple plane types aren't assigned to the same plane number. i.e. BAW952 will always be an A380\n",
    "\n",
    "\n",
    "### Blockers:\n",
    "__Head count in each plane__  \n",
    "presently I haven't found a source of information that tells you the capacity of a flight. This historical data could be bought from the airlines themselves and predicted\n",
    "this script uses local UTC time within its filters on an updating datasource so it can be run at any time of day to get the most accurate answer\n",
    "\n",
    "maybe i could go to an aggregator to source flight fullness. \n",
    "\n",
    "seats are in a different airport but the seat capacity seems wrong. \n",
    "\n",
    "__Terminal 5 issue__  \n",
    "gates A1-A23, B32 - B48,  c52 - C66\n",
    "\n",
    "\n",
    "__change of datasource__\n",
    "- datasource is scraped from the live JSON that feeds the tables on https://www.heathrow.com/departures and https://www.heathrow.com/arrivals\n",
    "- since I last looked at this, Heathrow have banned get requests to their server that feeds the website. Very annoying. \n",
    "- I've found something at https://flightaware.com/ that looks like it can deliver the same deal. "
   ]
  },
  {
   "cell_type": "markdown",
   "metadata": {},
   "source": [
    "## ongoing requirements/steps \n",
    "1. Can I turn my API call into a reusable function? Can I get it to run every 30 mins?\n",
    "2. Can I print my results to a dataframe with date time?"
   ]
  },
  {
   "cell_type": "code",
   "execution_count": 13,
   "metadata": {},
   "outputs": [],
   "source": [
    "import requests\n",
    "import json\n",
    "import datetime\n",
    "import pandas as pd\n",
    "from pandas.io.json import json_normalize\n",
    "from datetime import date\n",
    "from datetime import timedelta\n",
    "from bs4 import BeautifulSoup"
   ]
  },
  {
   "cell_type": "markdown",
   "metadata": {},
   "source": [
    "#### Save date and time to variables and format them"
   ]
  },
  {
   "cell_type": "markdown",
   "metadata": {},
   "source": [
    "#### Flight aware\n",
    "\n",
    "API documentation is good and can be found at https://flightaware.com/commercial/flightxml/explorer\n",
    "\n",
    "##### What we need:\n",
    "- arrival time - last hour (day will do and we can filter)\n",
    "- departure time\n",
    "- airport (if we make this function modular we can likely turn this into a variable field\n",
    "- plane type - needed for capacities\n"
   ]
  },
  {
   "cell_type": "code",
   "execution_count": 125,
   "metadata": {},
   "outputs": [
    {
     "name": "stdout",
     "output_type": "stream",
     "text": [
      "Good request\n"
     ]
    }
   ],
   "source": [
    "username = \"elliotamcbride\"\n",
    "apiKey = 'bbc28d34ef1fa87b15a85578b596fab184af1942'\n",
    "fxmlUrl = \"https://flightxml.flightaware.com/json/FlightXML2/\"\n",
    "endpoint = 'Departed'\n",
    "\n",
    "payload = {'airport': 'EGLL', 'howMany': 10}\n",
    "response = requests.get(fxmlUrl + endpoint,\n",
    "\tparams=payload, auth=(username, apiKey))\n",
    "\n",
    "if response.status_code == 200:\n",
    "\tflight_payload = response.json()\n",
    "\tprint(\"Good request\")\n",
    "else:\n",
    "\tprint(\"Error executing request\")"
   ]
  },
  {
   "cell_type": "markdown",
   "metadata": {},
   "source": [
    "### Retrieve JSON headers for analysis"
   ]
  },
  {
   "cell_type": "code",
   "execution_count": null,
   "metadata": {},
   "outputs": [],
   "source": [
    "flight_payload['DepartedResult']['departures']"
   ]
  },
  {
   "cell_type": "markdown",
   "metadata": {},
   "source": [
    "### Parse departure data into dataframe"
   ]
  },
  {
   "cell_type": "code",
   "execution_count": 120,
   "metadata": {},
   "outputs": [],
   "source": [
    "departures_payload_df = json_normalize(flight_payload['DepartedResult']['departures'])"
   ]
  },
  {
   "cell_type": "code",
   "execution_count": 130,
   "metadata": {},
   "outputs": [
    {
     "data": {
      "text/html": [
       "<div>\n",
       "<style scoped>\n",
       "    .dataframe tbody tr th:only-of-type {\n",
       "        vertical-align: middle;\n",
       "    }\n",
       "\n",
       "    .dataframe tbody tr th {\n",
       "        vertical-align: top;\n",
       "    }\n",
       "\n",
       "    .dataframe thead th {\n",
       "        text-align: right;\n",
       "    }\n",
       "</style>\n",
       "<table border=\"1\" class=\"dataframe\">\n",
       "  <thead>\n",
       "    <tr style=\"text-align: right;\">\n",
       "      <th></th>\n",
       "      <th>ident</th>\n",
       "      <th>aircrafttype</th>\n",
       "      <th>actualdeparturetime</th>\n",
       "      <th>estimatedarrivaltime</th>\n",
       "      <th>actualarrivaltime</th>\n",
       "      <th>origin</th>\n",
       "      <th>destination</th>\n",
       "      <th>originName</th>\n",
       "      <th>originCity</th>\n",
       "      <th>destinationName</th>\n",
       "      <th>destinationCity</th>\n",
       "    </tr>\n",
       "  </thead>\n",
       "  <tbody>\n",
       "    <tr>\n",
       "      <td>0</td>\n",
       "      <td>AIC112</td>\n",
       "      <td>B788</td>\n",
       "      <td>1603917334</td>\n",
       "      <td>1603946100</td>\n",
       "      <td>0</td>\n",
       "      <td>EGLL</td>\n",
       "      <td>VIDP</td>\n",
       "      <td>London Heathrow</td>\n",
       "      <td>London, England</td>\n",
       "      <td>Indira Gandhi Int'l</td>\n",
       "      <td>New Delhi</td>\n",
       "    </tr>\n",
       "    <tr>\n",
       "      <td>1</td>\n",
       "      <td>ETH701</td>\n",
       "      <td>B789</td>\n",
       "      <td>1603917107</td>\n",
       "      <td>1603944000</td>\n",
       "      <td>0</td>\n",
       "      <td>EGLL</td>\n",
       "      <td>HAAB</td>\n",
       "      <td>London Heathrow</td>\n",
       "      <td>London, England</td>\n",
       "      <td>Bole Int'l</td>\n",
       "      <td>Addis Ababa</td>\n",
       "    </tr>\n",
       "    <tr>\n",
       "      <td>2</td>\n",
       "      <td>CCA938</td>\n",
       "      <td></td>\n",
       "      <td>1603915762</td>\n",
       "      <td>0</td>\n",
       "      <td>0</td>\n",
       "      <td>EGLL</td>\n",
       "      <td></td>\n",
       "      <td>London Heathrow</td>\n",
       "      <td>London, England</td>\n",
       "      <td></td>\n",
       "      <td></td>\n",
       "    </tr>\n",
       "    <tr>\n",
       "      <td>3</td>\n",
       "      <td>BAW946</td>\n",
       "      <td>A319</td>\n",
       "      <td>1603915602</td>\n",
       "      <td>1603918320</td>\n",
       "      <td>0</td>\n",
       "      <td>EGLL</td>\n",
       "      <td>EDDL</td>\n",
       "      <td>London Heathrow</td>\n",
       "      <td>London, England</td>\n",
       "      <td>Dusseldorf Int'l</td>\n",
       "      <td>Dusseldorf</td>\n",
       "    </tr>\n",
       "    <tr>\n",
       "      <td>4</td>\n",
       "      <td>BAW544</td>\n",
       "      <td>A319</td>\n",
       "      <td>1603915431</td>\n",
       "      <td>1603920360</td>\n",
       "      <td>0</td>\n",
       "      <td>EGLL</td>\n",
       "      <td>LIPE</td>\n",
       "      <td>London Heathrow</td>\n",
       "      <td>London, England</td>\n",
       "      <td>Bologna (Guglielmo Marconi)</td>\n",
       "      <td>Bologna</td>\n",
       "    </tr>\n",
       "    <tr>\n",
       "      <td>5</td>\n",
       "      <td>BAW958</td>\n",
       "      <td>A319</td>\n",
       "      <td>1603915205</td>\n",
       "      <td>1603920000</td>\n",
       "      <td>0</td>\n",
       "      <td>EGLL</td>\n",
       "      <td>EDDM</td>\n",
       "      <td>London Heathrow</td>\n",
       "      <td>London, England</td>\n",
       "      <td>Munich Int'l</td>\n",
       "      <td>Munich</td>\n",
       "    </tr>\n",
       "    <tr>\n",
       "      <td>6</td>\n",
       "      <td>BAW444</td>\n",
       "      <td>A320</td>\n",
       "      <td>1603914611</td>\n",
       "      <td>1603916940</td>\n",
       "      <td>1603916940</td>\n",
       "      <td>EGLL</td>\n",
       "      <td>EHAM</td>\n",
       "      <td>London Heathrow</td>\n",
       "      <td>London, England</td>\n",
       "      <td>Amsterdam Schiphol</td>\n",
       "      <td>Amsterdam</td>\n",
       "    </tr>\n",
       "    <tr>\n",
       "      <td>7</td>\n",
       "      <td>ETD69K</td>\n",
       "      <td></td>\n",
       "      <td>1603914159</td>\n",
       "      <td>0</td>\n",
       "      <td>0</td>\n",
       "      <td>EGLL</td>\n",
       "      <td></td>\n",
       "      <td>London Heathrow</td>\n",
       "      <td>London, England</td>\n",
       "      <td></td>\n",
       "      <td></td>\n",
       "    </tr>\n",
       "    <tr>\n",
       "      <td>8</td>\n",
       "      <td>EIN937</td>\n",
       "      <td>A320</td>\n",
       "      <td>1603914044</td>\n",
       "      <td>1603917180</td>\n",
       "      <td>1603917180</td>\n",
       "      <td>EGLL</td>\n",
       "      <td>EGAC</td>\n",
       "      <td>London Heathrow</td>\n",
       "      <td>London, England</td>\n",
       "      <td>George Best Belfast City</td>\n",
       "      <td>Belfast, Northern Ireland</td>\n",
       "    </tr>\n",
       "    <tr>\n",
       "      <td>9</td>\n",
       "      <td>BAW634</td>\n",
       "      <td>32Q</td>\n",
       "      <td>1603913949</td>\n",
       "      <td>1603924800</td>\n",
       "      <td>0</td>\n",
       "      <td>EGLL</td>\n",
       "      <td>LGAV</td>\n",
       "      <td>London Heathrow</td>\n",
       "      <td>London, England</td>\n",
       "      <td>Athens Int'l, Eleftherios Venizelos</td>\n",
       "      <td>Athens</td>\n",
       "    </tr>\n",
       "  </tbody>\n",
       "</table>\n",
       "</div>"
      ],
      "text/plain": [
       "    ident aircrafttype  actualdeparturetime  estimatedarrivaltime  \\\n",
       "0  AIC112         B788           1603917334            1603946100   \n",
       "1  ETH701         B789           1603917107            1603944000   \n",
       "2  CCA938                        1603915762                     0   \n",
       "3  BAW946         A319           1603915602            1603918320   \n",
       "4  BAW544         A319           1603915431            1603920360   \n",
       "5  BAW958         A319           1603915205            1603920000   \n",
       "6  BAW444         A320           1603914611            1603916940   \n",
       "7  ETD69K                        1603914159                     0   \n",
       "8  EIN937         A320           1603914044            1603917180   \n",
       "9  BAW634          32Q           1603913949            1603924800   \n",
       "\n",
       "   actualarrivaltime origin destination       originName       originCity  \\\n",
       "0                  0   EGLL        VIDP  London Heathrow  London, England   \n",
       "1                  0   EGLL        HAAB  London Heathrow  London, England   \n",
       "2                  0   EGLL              London Heathrow  London, England   \n",
       "3                  0   EGLL        EDDL  London Heathrow  London, England   \n",
       "4                  0   EGLL        LIPE  London Heathrow  London, England   \n",
       "5                  0   EGLL        EDDM  London Heathrow  London, England   \n",
       "6         1603916940   EGLL        EHAM  London Heathrow  London, England   \n",
       "7                  0   EGLL              London Heathrow  London, England   \n",
       "8         1603917180   EGLL        EGAC  London Heathrow  London, England   \n",
       "9                  0   EGLL        LGAV  London Heathrow  London, England   \n",
       "\n",
       "                       destinationName            destinationCity  \n",
       "0                  Indira Gandhi Int'l                  New Delhi  \n",
       "1                           Bole Int'l                Addis Ababa  \n",
       "2                                                                  \n",
       "3                     Dusseldorf Int'l                 Dusseldorf  \n",
       "4          Bologna (Guglielmo Marconi)                    Bologna  \n",
       "5                         Munich Int'l                     Munich  \n",
       "6                   Amsterdam Schiphol                  Amsterdam  \n",
       "7                                                                  \n",
       "8             George Best Belfast City  Belfast, Northern Ireland  \n",
       "9  Athens Int'l, Eleftherios Venizelos                     Athens  "
      ]
     },
     "execution_count": 130,
     "metadata": {},
     "output_type": "execute_result"
    }
   ],
   "source": [
    "departures_payload_df.head(10)"
   ]
  },
  {
   "cell_type": "markdown",
   "metadata": {},
   "source": [
    "### Rename column headers"
   ]
  },
  {
   "cell_type": "code",
   "execution_count": 132,
   "metadata": {},
   "outputs": [
    {
     "data": {
      "text/html": [
       "<div>\n",
       "<style scoped>\n",
       "    .dataframe tbody tr th:only-of-type {\n",
       "        vertical-align: middle;\n",
       "    }\n",
       "\n",
       "    .dataframe tbody tr th {\n",
       "        vertical-align: top;\n",
       "    }\n",
       "\n",
       "    .dataframe thead th {\n",
       "        text-align: right;\n",
       "    }\n",
       "</style>\n",
       "<table border=\"1\" class=\"dataframe\">\n",
       "  <thead>\n",
       "    <tr style=\"text-align: right;\">\n",
       "      <th></th>\n",
       "      <th>aircrafttype</th>\n",
       "      <th>departureTime</th>\n",
       "      <th>ident</th>\n",
       "    </tr>\n",
       "  </thead>\n",
       "  <tbody>\n",
       "    <tr>\n",
       "      <td>0</td>\n",
       "      <td>B788</td>\n",
       "      <td>1603917334</td>\n",
       "      <td>AIC112</td>\n",
       "    </tr>\n",
       "    <tr>\n",
       "      <td>1</td>\n",
       "      <td>B789</td>\n",
       "      <td>1603917107</td>\n",
       "      <td>ETH701</td>\n",
       "    </tr>\n",
       "    <tr>\n",
       "      <td>2</td>\n",
       "      <td></td>\n",
       "      <td>1603915762</td>\n",
       "      <td>CCA938</td>\n",
       "    </tr>\n",
       "    <tr>\n",
       "      <td>3</td>\n",
       "      <td>A319</td>\n",
       "      <td>1603915602</td>\n",
       "      <td>BAW946</td>\n",
       "    </tr>\n",
       "    <tr>\n",
       "      <td>4</td>\n",
       "      <td>A319</td>\n",
       "      <td>1603915431</td>\n",
       "      <td>BAW544</td>\n",
       "    </tr>\n",
       "    <tr>\n",
       "      <td>5</td>\n",
       "      <td>A319</td>\n",
       "      <td>1603915205</td>\n",
       "      <td>BAW958</td>\n",
       "    </tr>\n",
       "    <tr>\n",
       "      <td>6</td>\n",
       "      <td>A320</td>\n",
       "      <td>1603914611</td>\n",
       "      <td>BAW444</td>\n",
       "    </tr>\n",
       "    <tr>\n",
       "      <td>7</td>\n",
       "      <td></td>\n",
       "      <td>1603914159</td>\n",
       "      <td>ETD69K</td>\n",
       "    </tr>\n",
       "    <tr>\n",
       "      <td>8</td>\n",
       "      <td>A320</td>\n",
       "      <td>1603914044</td>\n",
       "      <td>EIN937</td>\n",
       "    </tr>\n",
       "    <tr>\n",
       "      <td>9</td>\n",
       "      <td>32Q</td>\n",
       "      <td>1603913949</td>\n",
       "      <td>BAW634</td>\n",
       "    </tr>\n",
       "    <tr>\n",
       "      <td>10</td>\n",
       "      <td>A320</td>\n",
       "      <td>1603913829</td>\n",
       "      <td>EWG9463</td>\n",
       "    </tr>\n",
       "    <tr>\n",
       "      <td>11</td>\n",
       "      <td>A320</td>\n",
       "      <td>1603913745</td>\n",
       "      <td>BAW786</td>\n",
       "    </tr>\n",
       "    <tr>\n",
       "      <td>12</td>\n",
       "      <td>A319</td>\n",
       "      <td>1603913586</td>\n",
       "      <td>BAW802</td>\n",
       "    </tr>\n",
       "    <tr>\n",
       "      <td>13</td>\n",
       "      <td></td>\n",
       "      <td>1603913434</td>\n",
       "      <td>UAE32</td>\n",
       "    </tr>\n",
       "    <tr>\n",
       "      <td>14</td>\n",
       "      <td>A320</td>\n",
       "      <td>1603913184</td>\n",
       "      <td>EWG5AW</td>\n",
       "    </tr>\n",
       "  </tbody>\n",
       "</table>\n",
       "</div>"
      ],
      "text/plain": [
       "   aircrafttype  departureTime    ident\n",
       "0          B788     1603917334   AIC112\n",
       "1          B789     1603917107   ETH701\n",
       "2                   1603915762   CCA938\n",
       "3          A319     1603915602   BAW946\n",
       "4          A319     1603915431   BAW544\n",
       "5          A319     1603915205   BAW958\n",
       "6          A320     1603914611   BAW444\n",
       "7                   1603914159   ETD69K\n",
       "8          A320     1603914044   EIN937\n",
       "9           32Q     1603913949   BAW634\n",
       "10         A320     1603913829  EWG9463\n",
       "11         A320     1603913745   BAW786\n",
       "12         A319     1603913586   BAW802\n",
       "13                  1603913434    UAE32\n",
       "14         A320     1603913184   EWG5AW"
      ]
     },
     "metadata": {},
     "output_type": "display_data"
    }
   ],
   "source": [
    "df = departures_payload_df.rename(columns={'actualdeparturetime': 'departureTime'})\n",
    "\n",
    "df = df[['aircrafttype', 'departureTime', 'ident']]\n",
    "\n",
    "\n",
    "display(df)"
   ]
  },
  {
   "cell_type": "markdown",
   "metadata": {},
   "source": [
    " ***for plane use to recreate the dataframes, delete when back online***"
   ]
  },
  {
   "cell_type": "code",
   "execution_count": 82,
   "metadata": {},
   "outputs": [],
   "source": []
  },
  {
   "cell_type": "markdown",
   "metadata": {},
   "source": [
    "### Change epoch date to date time format"
   ]
  },
  {
   "cell_type": "code",
   "execution_count": 9,
   "metadata": {},
   "outputs": [
    {
     "name": "stdout",
     "output_type": "stream",
     "text": [
      "  aircrafttype       departureTime\n",
      "0              2020-10-28 18:12:13\n",
      "1         A320 2020-10-28 18:02:21\n"
     ]
    }
   ],
   "source": [
    "df['departureTime'] = pd.to_datetime(df['departureTime'],unit='s')\n",
    "\n",
    "print(df.head(2))"
   ]
  },
  {
   "cell_type": "markdown",
   "metadata": {},
   "source": [
    "### get plane capacities"
   ]
  },
  {
   "cell_type": "code",
   "execution_count": null,
   "metadata": {},
   "outputs": [],
   "source": [
    "dummy_plane_capacities = pd.DataFrame({\n",
    "    \"capacity\": [350, 160, 450, 200],\n",
    "    \"aircrafttype\": ['A319', 'A380', '777', 'B772'],\n",
    "})\n",
    "\n",
    "display(dummy_plane_capacities)"
   ]
  },
  {
   "cell_type": "markdown",
   "metadata": {},
   "source": [
    "### Get BA and Iberia plane types"
   ]
  },
  {
   "cell_type": "code",
   "execution_count": null,
   "metadata": {},
   "outputs": [],
   "source": [
    "def scrapeforflights(location, fleet_name):\n",
    "    url = location\n",
    "    websiteurl = requests.get(url).text \n",
    "    soup = BeautifulSoup(websiteurl, 'lxml')\n",
    "    My_table = soup.find('table',{'class':'wikitable'})\n",
    "    mytablebody = My_table.find('tbody')\n",
    "    links = mytablebody.findAll('a')\n",
    "    \n",
    "    fleet_name = []\n",
    "    for link in links:\n",
    "        fleet_name.append(link.get('title'))\n",
    "    #good point + return\n",
    "    good_value_BA_planeTypes = list(filter(None, fleet_name)) \n",
    "    display(good_value_BA_planeTypes)\n",
    "    return good_value_BA_planeTypes"
   ]
  },
  {
   "cell_type": "code",
   "execution_count": 110,
   "metadata": {},
   "outputs": [
    {
     "data": {
      "text/plain": [
       "['Wikipedia:Citation needed',\n",
       " 'Airbus A319-100',\n",
       " 'Airbus A320-200',\n",
       " 'Airbus A320neo',\n",
       " 'Airbus A321-200',\n",
       " 'Airbus A321neo',\n",
       " 'Airbus A321XLR',\n",
       " 'Airbus A330-200',\n",
       " 'Airbus A330-300',\n",
       " 'Airbus A350-900']"
      ]
     },
     "metadata": {},
     "output_type": "display_data"
    }
   ],
   "source": [
    "#remove None types\n",
    "good_value_BA_planeTypes = list(filter(None, ba_planes)) \n",
    "display(good_value_BA_planeTypes)"
   ]
  },
  {
   "cell_type": "code",
   "execution_count": 116,
   "metadata": {},
   "outputs": [
    {
     "data": {
      "text/plain": [
       "[None,\n",
       " None,\n",
       " 'Airbus A319-100',\n",
       " 'Airbus A320-200',\n",
       " 'Airbus A320neo',\n",
       " None,\n",
       " 'Airbus A321-200',\n",
       " 'Airbus A321neo',\n",
       " None,\n",
       " 'Airbus A350-1000',\n",
       " None,\n",
       " 'Airbus A380-800',\n",
       " 'Boeing 777-200ER',\n",
       " 'Boeing 777-300ER',\n",
       " None,\n",
       " 'Boeing 777-9',\n",
       " None,\n",
       " None,\n",
       " 'Boeing 787-8',\n",
       " 'Boeing 787-9',\n",
       " 'Boeing 787-10',\n",
       " None,\n",
       " None]"
      ]
     },
     "execution_count": 116,
     "metadata": {},
     "output_type": "execute_result"
    }
   ],
   "source": [
    "scrapeforflights('https://en.wikipedia.org/wiki/British_Airways_fleet', 'Brit airways')"
   ]
  },
  {
   "cell_type": "code",
   "execution_count": 113,
   "metadata": {},
   "outputs": [
    {
     "data": {
      "text/plain": [
       "[None,\n",
       " None,\n",
       " 'Airbus A319-100',\n",
       " 'Airbus A320-200',\n",
       " 'Airbus A320neo',\n",
       " None,\n",
       " 'Airbus A321-200',\n",
       " 'Airbus A321neo',\n",
       " None,\n",
       " 'Airbus A350-1000',\n",
       " None,\n",
       " 'Airbus A380-800',\n",
       " 'Boeing 777-200ER',\n",
       " 'Boeing 777-300ER',\n",
       " None,\n",
       " 'Boeing 777-9',\n",
       " None,\n",
       " None,\n",
       " 'Boeing 787-8',\n",
       " 'Boeing 787-9',\n",
       " 'Boeing 787-10',\n",
       " None,\n",
       " None]"
      ]
     },
     "execution_count": 113,
     "metadata": {},
     "output_type": "execute_result"
    }
   ],
   "source": []
  },
  {
   "cell_type": "code",
   "execution_count": 117,
   "metadata": {},
   "outputs": [
    {
     "name": "stdout",
     "output_type": "stream",
     "text": [
      "               BA_planetypes\n",
      "0  Wikipedia:Citation needed\n",
      "1            Airbus A319-100\n",
      "2            Airbus A320-200\n",
      "3             Airbus A320neo\n",
      "4            Airbus A321-200\n",
      "5             Airbus A321neo\n",
      "6             Airbus A321XLR\n",
      "7            Airbus A330-200\n",
      "8            Airbus A330-300\n",
      "9            Airbus A350-900\n"
     ]
    }
   ],
   "source": [
    "#convert to data frame:\n",
    "good_value_BA_planeTypes_df = pd.DataFrame()\n",
    "    \n",
    "good_value_BA_planeTypes_df['BA_planetypes'] = good_value_BA_planeTypes\n",
    "\n",
    "#get rid of alfavalues\n",
    "ba_plane_numbers = pd.DataFrame()\n",
    "\n",
    "ba_plane_numbers['BA_planetypes'] = good_value_BA_planeTypes_df['BA_planetypes'].str.replace('Airbus ', '').str.replace('Boeing ', '').str.replace('neo', '')\n",
    "\n",
    "print(good_value_BA_planeTypes_df)\n",
    "#sweet"
   ]
  },
  {
   "cell_type": "code",
   "execution_count": null,
   "metadata": {},
   "outputs": [],
   "source": [
    "url = 'https://en.wikipedia.org/wiki/Iberia_(airline)'\n",
    "websiteurl = requests.get(url).text \n",
    "soup = BeautifulSoup(websiteurl, 'lxml')\n",
    "\n",
    "My_table = soup.find('table',{'class':'wikitable'})\n",
    "\n",
    "print(My_table.prettify())\n",
    "# links = My_table.find('a')\n",
    "\n",
    "# fleet_name = []\n",
    "    \n",
    "# for link in links:\n",
    "#     fleet_name.append(links.get('title'))\n",
    "    \n",
    "# fleet_name "
   ]
  },
  {
   "cell_type": "code",
   "execution_count": 79,
   "metadata": {},
   "outputs": [
    {
     "data": {
      "text/plain": [
       "[None]"
      ]
     },
     "execution_count": 79,
     "metadata": {},
     "output_type": "execute_result"
    }
   ],
   "source": [
    "scrapeforfleet('https://en.wikipedia.org/wiki/Iberia_(airline)', 'Iberia')"
   ]
  },
  {
   "cell_type": "markdown",
   "metadata": {},
   "source": [
    "### merge datasets"
   ]
  },
  {
   "cell_type": "code",
   "execution_count": null,
   "metadata": {},
   "outputs": [],
   "source": [
    "merged_flight_and_aircraft = dummy_flight_on_flight.merge(dummy_plane_capacities, on=\"aircrafttype\", how=\"left\")\n",
    "\n",
    "print(merged_flight_and_aircraft)"
   ]
  },
  {
   "cell_type": "code",
   "execution_count": 10,
   "metadata": {},
   "outputs": [
    {
     "name": "stdout",
     "output_type": "stream",
     "text": [
      "2020-10-25\n",
      "2020-10-25 10:20:49.018556\n",
      "10:20:49\n"
     ]
    }
   ],
   "source": [
    "today = date.today()\n",
    "\n",
    "timenow = datetime.datetime.now()\n",
    "\n",
    "stringoftimernow = timenow.strftime(\"%H:%M:%S\")\n",
    "\n",
    "print (str(today))\n",
    "print(timenow)\n",
    "print(stringoftimernow)"
   ]
  },
  {
   "cell_type": "markdown",
   "metadata": {},
   "source": [
    "### ***now get current time + 90 minutes***\n",
    "\n",
    "Current time values"
   ]
  },
  {
   "cell_type": "code",
   "execution_count": 10,
   "metadata": {},
   "outputs": [
    {
     "name": "stdout",
     "output_type": "stream",
     "text": [
      "2020-10-25\n",
      "2020-10-25 10:20:49.018556\n",
      "10:20:49\n"
     ]
    }
   ],
   "source": [
    "today = date.today()\n",
    "\n",
    "timenow = datetime.datetime.now()\n",
    "\n",
    "stringoftimernow = timenow.strftime(\"%H:%M:%S\")\n",
    "\n",
    "print (str(today))\n",
    "print(timenow)\n",
    "print(stringoftimernow)"
   ]
  },
  {
   "cell_type": "code",
   "execution_count": 65,
   "metadata": {},
   "outputs": [
    {
     "name": "stdout",
     "output_type": "stream",
     "text": [
      "0\n"
     ]
    }
   ],
   "source": [
    "#filter\n",
    "#create time filter values\n",
    "\n",
    "timeplus90 = datetime.datetime.now() + timedelta(hours = 1.5)\n",
    "\n",
    "time90 = timeplus90.strftime(\"%H:%M:%S\")\n",
    "\n",
    "#filter out non-relevant times\n",
    "shortdf = df[(df.departureTime >= timenow) & (df.departureTime <= time90)]\n",
    "\n",
    "depflights = shortdf.shape[0]\n",
    "\n",
    "print(depflights)"
   ]
  },
  {
   "cell_type": "code",
   "execution_count": null,
   "metadata": {},
   "outputs": [],
   "source": []
  },
  {
   "cell_type": "markdown",
   "metadata": {},
   "source": [
    "## Filter to get t5 terminal only\n",
    "\n",
    "### Terminal 5 issue\n",
    "When I was scraping off the Heathrow page i could subset by terminal, unfortunately terminal information is not available on this API. However information tells us that only Iberia and British airways fly from T5 so I can just filter my results to those. I need to check that no other British airways or Iberia flights leave from outside Terminal 5 and for this - heathrow haven't blocked their jsons for terminal information so I can go scrape it from here:\n",
    "\n",
    "https://www.heathrow.com/bin/heathrow/terminalLanding.en.json\n",
    "\n",
    "Annoyingly, I can't scrape the terminal information. And I found out that Iberia and Heathrow also can fly from Terminal 3 so that filtering by carrier will be inaccurate. This sucks, the alternative is that I find out what routes BA and Iberia are from T5. This will likely involve destination information which I can't get now as I'm on a plane. I'll block this out and come back later. "
   ]
  },
  {
   "cell_type": "code",
   "execution_count": 32,
   "metadata": {},
   "outputs": [
    {
     "name": "stdout",
     "output_type": "stream",
     "text": [
      "Good request\n"
     ]
    }
   ],
   "source": [
    "#Departure info request\n",
    "\n",
    "# terminal_info = 'https://www.heathrow.com/bin/heathrow/terminalLanding.en.json'\n",
    "\n",
    "# terminal_info_resp = requests.get(terminal_info)\n",
    "\n",
    "# if terminal_info_resp.status_code == 200:\n",
    "# \tterminal_flight_payload = terminal_info_resp.json()\n",
    "# \tprint(\"Good request\")\n",
    "# else:\n",
    "# \tprint(\"Error executing request\")"
   ]
  },
  {
   "cell_type": "code",
   "execution_count": null,
   "metadata": {},
   "outputs": [],
   "source": [
    "Print head of terminal info"
   ]
  },
  {
   "cell_type": "code",
   "execution_count": null,
   "metadata": {},
   "outputs": [],
   "source": [
    "t5 = df[df.terminal == '5']"
   ]
  },
  {
   "cell_type": "code",
   "execution_count": null,
   "metadata": {},
   "outputs": [],
   "source": [
    "### mutate colum with just time."
   ]
  },
  {
   "cell_type": "code",
   "execution_count": null,
   "metadata": {},
   "outputs": [],
   "source": [
    "t5['times'] = t5['datentime'].dt.time"
   ]
  },
  {
   "cell_type": "markdown",
   "metadata": {},
   "source": [
    "---\n",
    "\n",
    "# Arrival Flights\n",
    "\n",
    "---\n",
    "__ARRIVAL Data taken from:__ https://www.heathrow.com/arrivals\n",
    "https://www.heathrow.com/fihub/activeArrivals/2019-11-19Z"
   ]
  },
  {
   "cell_type": "code",
   "execution_count": 139,
   "metadata": {},
   "outputs": [
    {
     "name": "stdout",
     "output_type": "stream",
     "text": [
      "dict_keys(['header', 'flightSummaryList', 'references'])\n"
     ]
    }
   ],
   "source": [
    "arrurl = 'https://www.heathrow.com/fihub/activeArrivals/' + str(today) + 'Z'\n",
    "\n",
    "arresp = requests.get(arrurl)\n",
    "arf = arresp.json()\n",
    "\n",
    "print(arf.keys())\n"
   ]
  },
  {
   "cell_type": "code",
   "execution_count": 140,
   "metadata": {},
   "outputs": [],
   "source": [
    "# Same wrangle different headers - so no for loop, Sorry!\n",
    "\n",
    "arf_payload = json_normalize(arf['flightSummaryList']['flight'])\n",
    "\n",
    "arf_df = arf_payload.rename(columns={'destination.terminalCode': 'terminal', 'destination.scheduledDateTime.local': 'datentime'})\n",
    "\n",
    "arf_df = arf_df[['terminal', 'datentime']]\n",
    "\n",
    "arf_df['datentime'] = pd.to_datetime(arf_df['datentime'], format='%Y-%m-%d')\n",
    "\n",
    "#filter terminal\n",
    "t5 = arf_df[arf_df.terminal == '5']\n",
    "\n",
    "arf_df['times'] = arf_df['datentime'].dt.time"
   ]
  },
  {
   "cell_type": "code",
   "execution_count": 141,
   "metadata": {},
   "outputs": [
    {
     "name": "stdout",
     "output_type": "stream",
     "text": [
      "42\n"
     ]
    }
   ],
   "source": [
    "#filters\n",
    "\n",
    "timeminus30 = datetime.datetime.now() + timedelta(hours = -.5)\n",
    "\n",
    "arr_shortdf = arf_df[(arf_df.datentime >= timeminus30) & (arf_df.datentime <= timenow)]\n",
    "\n",
    "arrflights = arr_shortdf.shape[0]\n",
    "\n",
    "print(arrflights)"
   ]
  },
  {
   "cell_type": "markdown",
   "metadata": {},
   "source": [
    "#there are 416 seats in a 747 and as we cannot scrape the airplane information\n",
    "we are also going to assume that on average a plane is 80% full\n",
    "there are 416 seats in a 747"
   ]
  },
  {
   "cell_type": "code",
   "execution_count": 143,
   "metadata": {},
   "outputs": [
    {
     "name": "stdout",
     "output_type": "stream",
     "text": [
      "21278\n"
     ]
    }
   ],
   "source": [
    "departures = (depflights * 186) * .8\n",
    "\n",
    "arrivals = (arrflights*186) * .8\n",
    "\n",
    "#Total number of people in Heathrow T5 right now is (rounded to the nearest person)\n",
    "\n",
    "print(round(departures + arrivals))"
   ]
  }
 ],
 "metadata": {
  "kernelspec": {
   "display_name": "Python 3",
   "language": "python",
   "name": "python3"
  },
  "language_info": {
   "codemirror_mode": {
    "name": "ipython",
    "version": 3
   },
   "file_extension": ".py",
   "mimetype": "text/x-python",
   "name": "python",
   "nbconvert_exporter": "python",
   "pygments_lexer": "ipython3",
   "version": "3.7.4"
  }
 },
 "nbformat": 4,
 "nbformat_minor": 4
}
