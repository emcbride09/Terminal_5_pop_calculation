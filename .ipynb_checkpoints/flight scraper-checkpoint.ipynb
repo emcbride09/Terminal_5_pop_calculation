{
 "cells": [
  {
   "cell_type": "code",
   "execution_count": null,
   "metadata": {},
   "outputs": [],
   "source": [
    "#How many people are in Heathrow terminal 5 now?\n",
    "#on public facing data this is impossible to determine, \n",
    "#however a more accurate guess can be made based on the following assumptions:\n",
    "\n",
    "# 1. Only people who have a flight leaving at the present time + 90 minutes are in terminal 5 PLUS\n",
    "# 2. people who have landed in the last 30 minutes as they don't tend to wait in the airport once they have arrived\n",
    "\n",
    "# 3. if all aircraft are on average 80% full (this is where guesses will ruin accuracy) then we can say that the population of \n",
    "#heathrow is 80% of the seats leaving heathrow t5 between now and 90 minutes FROM now PLUS\n",
    "# 80% of the seats having arrived 30 minutes PRIOR to now\n",
    "\n",
    "#4. aircraft information is not given on the json payload from the heathrow site, from the heathrow site the Airbus A320\n",
    "#is the most common aircraft so we must assume that this will be the majority of planes to be taking off (186 seats) \n",
    "#however this is where the most variability is introduced. Furture iterations of this project will attempt to identify\n",
    "#ways of identifying and counting aircraft seats across all airplane types.\n",
    "\n",
    "#this script uses local UTC time within its filters on an updating datasource so it can be run at any time of day to get the most accurate answer\n",
    "\n",
    "#datasource is taken from the online JSON that feeds the live table on https://www.heathrow.com/departures and https://www.heathrow.com/arrivals"
   ]
  },
  {
   "cell_type": "code",
   "execution_count": null,
   "metadata": {},
   "outputs": [],
   "source": [
    "import requests \n",
    "import json\n",
    "import datetime\n",
    "import pandas as pd\n",
    "from pandas.io.json import json_normalize\n",
    "from datetime import date\n",
    "from datetime import timedelta  "
   ]
  },
  {
   "cell_type": "code",
   "execution_count": null,
   "metadata": {},
   "outputs": [],
   "source": [
    "#save date and time to variables within format\n",
    "\n",
    "today = date.today()\n",
    "\n",
    "timenow = datetime.datetime.now()\n",
    "\n",
    "timernow = timenow.strftime(\"%H:%M:%S\")\n",
    "\n",
    "print(today)\n",
    "print(timernow)\n",
    "print(time90)"
   ]
  },
  {
   "cell_type": "code",
   "execution_count": null,
   "metadata": {},
   "outputs": [],
   "source": [
    "#DEPARTURE data taken from live Network source from https://www.heathrow.com/departures\n",
    "# http://www.heathrow.com/fihub/activeDepartures/2019-11-19Z\n",
    "#stitch together url so that it can run with today's date\n",
    "\n",
    "depurl = 'https://www.heathrow.com/fihub/activeDepartures/' + str(today) + 'Z'"
   ]
  },
  {
   "cell_type": "code",
   "execution_count": null,
   "metadata": {},
   "outputs": [],
   "source": [
    "#Departure info request\n",
    "\n",
    "resp = requests.get(depurl)\n",
    "fdf = resp.json()\n",
    "\n",
    "\n"
   ]
  },
  {
   "cell_type": "code",
   "execution_count": null,
   "metadata": {},
   "outputs": [],
   "source": [
    "#retrieve JSON headers for analysis\n",
    "\n",
    "print(fdf.keys())"
   ]
  },
  {
   "cell_type": "code",
   "execution_count": null,
   "metadata": {},
   "outputs": [],
   "source": [
    "#get departure data\n",
    "fdf = json_normalize(fdf['flightSummaryList']['flight'])"
   ]
  },
  {
   "cell_type": "code",
   "execution_count": null,
   "metadata": {},
   "outputs": [],
   "source": [
    "#rename column headers\n",
    "df = fdf.rename(columns={'origin.terminalCode': 'terminal', 'origin.scheduledDateTime.local': 'datentime'})\n",
    "\n",
    "df = df[['terminal', 'datentime']]\n",
    "\n",
    "df['datentime'] = pd.to_datetime(df['datentime'], format='%Y-%m-%d')\n",
    "\n",
    "print(df.head(2))"
   ]
  },
  {
   "cell_type": "code",
   "execution_count": null,
   "metadata": {},
   "outputs": [],
   "source": [
    "#filter to get t5 terminal only\n",
    "\n",
    "t5 = df[df.terminal == '5']"
   ]
  },
  {
   "cell_type": "code",
   "execution_count": null,
   "metadata": {},
   "outputs": [],
   "source": [
    "#mutate colum with just time.\n",
    "\n",
    "t5['times'] = t5['datentime'].dt.time\n"
   ]
  },
  {
   "cell_type": "code",
   "execution_count": null,
   "metadata": {},
   "outputs": [],
   "source": [
    "#filter\n",
    "#create time filter values\n",
    "timeplus90 = datetime.datetime.now() + timedelta(hours = 1.5)\n",
    "\n",
    "time90 = timeplus90.strftime(\"%H:%M:%S\")\n",
    "\n",
    "\n",
    "#filter out non-relevant times\n",
    "shortdf = t5[(t5.datentime >= timernow) & (t5.datentime <= time90)]\n",
    "\n",
    "depflights = shortdf.shape[0]\n",
    "\n",
    "print(depflights)"
   ]
  },
  {
   "cell_type": "code",
   "execution_count": 139,
   "metadata": {},
   "outputs": [
    {
     "name": "stdout",
     "output_type": "stream",
     "text": [
      "dict_keys(['header', 'flightSummaryList', 'references'])\n"
     ]
    }
   ],
   "source": [
    "####_________________________________________________________________________\n",
    "\n",
    "#arrival information\n",
    "\n",
    "###__________________________________________________________________________\n",
    "\n",
    "#ARRIVAL Data taken from https://www.heathrow.com/arrivals\n",
    "#https://www.heathrow.com/fihub/activeArrivals/2019-11-19Z\n",
    "\n",
    "arrurl = 'https://www.heathrow.com/fihub/activeArrivals/' + str(today) + 'Z'\n",
    "\n",
    "arresp = requests.get(arrurl)\n",
    "arf = arresp.json()\n",
    "\n",
    "print(arf.keys())\n"
   ]
  },
  {
   "cell_type": "code",
   "execution_count": 140,
   "metadata": {},
   "outputs": [],
   "source": [
    "#Same wrangle different headers - so no for loop, Sorry!\n",
    "\n",
    "arf_payload = json_normalize(arf['flightSummaryList']['flight'])\n",
    "\n",
    "arf_df = arf_payload.rename(columns={'destination.terminalCode': 'terminal', 'destination.scheduledDateTime.local': 'datentime'})\n",
    "\n",
    "arf_df = arf_df[['terminal', 'datentime']]\n",
    "\n",
    "arf_df['datentime'] = pd.to_datetime(arf_df['datentime'], format='%Y-%m-%d')\n",
    "\n",
    "#filter terminal\n",
    "t5 = arf_df[arf_df.terminal == '5']\n",
    "\n",
    "arf_df['times'] = arf_df['datentime'].dt.time\n"
   ]
  },
  {
   "cell_type": "code",
   "execution_count": 141,
   "metadata": {},
   "outputs": [
    {
     "name": "stdout",
     "output_type": "stream",
     "text": [
      "42\n"
     ]
    }
   ],
   "source": [
    "#filters\n",
    "\n",
    "timeminus30 = datetime.datetime.now() + timedelta(hours = -.5)\n",
    "\n",
    "arr_shortdf = arf_df[(arf_df.datentime >= timeminus30) & (arf_df.datentime <= timenow)]\n",
    "\n",
    "arrflights = arr_shortdf.shape[0]\n",
    "\n",
    "print(arrflights)"
   ]
  },
  {
   "cell_type": "code",
   "execution_count": null,
   "metadata": {},
   "outputs": [],
   "source": [
    "#there are 416 seats in a 747 and as we cannot scrape the airplane information\n",
    "#we are also going to assume that on average a plane is 80% full\n",
    "#there are 416 seats in a 747"
   ]
  },
  {
   "cell_type": "code",
   "execution_count": 143,
   "metadata": {},
   "outputs": [
    {
     "name": "stdout",
     "output_type": "stream",
     "text": [
      "21278\n"
     ]
    }
   ],
   "source": [
    "departures = (depflights * 186) * .8\n",
    "\n",
    "arrivals = (arrflights*186) * .8\n",
    "\n",
    "#Total number of people in Heathrow T5 right now is\n",
    "\n",
    "print(round(departures + arrivals))"
   ]
  }
 ],
 "metadata": {
  "kernelspec": {
   "display_name": "Python 3",
   "language": "python",
   "name": "python3"
  },
  "language_info": {
   "codemirror_mode": {
    "name": "ipython",
    "version": 3
   },
   "file_extension": ".py",
   "mimetype": "text/x-python",
   "name": "python",
   "nbconvert_exporter": "python",
   "pygments_lexer": "ipython3",
   "version": "3.7.2"
  }
 },
 "nbformat": 4,
 "nbformat_minor": 2
}
